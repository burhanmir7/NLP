{
 "cells": [
  {
   "cell_type": "code",
   "execution_count": 1,
   "id": "fa8601d7",
   "metadata": {},
   "outputs": [
    {
     "name": "stdout",
     "output_type": "stream",
     "text": [
      "Requirement already satisfied: nltk in /Users/buri/anaconda3/lib/python3.11/site-packages (3.8.1)\r\n",
      "Requirement already satisfied: click in /Users/buri/anaconda3/lib/python3.11/site-packages (from nltk) (8.0.4)\r\n",
      "Requirement already satisfied: joblib in /Users/buri/anaconda3/lib/python3.11/site-packages (from nltk) (1.2.0)\r\n",
      "Requirement already satisfied: regex>=2021.8.3 in /Users/buri/anaconda3/lib/python3.11/site-packages (from nltk) (2022.7.9)\r\n",
      "Requirement already satisfied: tqdm in /Users/buri/anaconda3/lib/python3.11/site-packages (from nltk) (4.65.0)\r\n"
     ]
    }
   ],
   "source": [
    "!pip install nltk"
   ]
  },
  {
   "cell_type": "code",
   "execution_count": 2,
   "id": "ba0d2dc7",
   "metadata": {},
   "outputs": [
    {
     "name": "stderr",
     "output_type": "stream",
     "text": [
      "[nltk_data] Downloading package stopwords to /Users/buri/nltk_data...\n",
      "[nltk_data]   Package stopwords is already up-to-date!\n"
     ]
    }
   ],
   "source": [
    "import nltk\n",
    "from nltk.stem import PorterStemmer\n",
    "import nltk\n",
    "nltk.download('stopwords')\n",
    "from nltk.corpus import stopwords\n",
    "\n"
   ]
  },
  {
   "cell_type": "code",
   "execution_count": 3,
   "id": "1fbcc776",
   "metadata": {},
   "outputs": [],
   "source": [
    "paragraph=\"\"\"\n",
    "Cristiano Ronaldo dos Santos Aveiro GOIH ComM (Portuguese pronunciation: [kɾiʃˈtjɐnu ʁɔˈnaldu]; born 5 February 1985) is a Portuguese professional footballer who plays as a forward for and captains both Saudi Pro League club Al Nassr and the Portugal national team. Widely regarded as one of the greatest players of all time, Ronaldo has won five Ballon d'Or awards,[note 3] a record three UEFA Men's Player of the Year Awards, and four European Golden Shoes, the most by a European player. He has won 33 trophies in his career, including seven league titles, five UEFA Champions Leagues, the UEFA European Championship and the UEFA Nations League. Ronaldo holds the records for most appearances (183), goals (140) and assists (42) in the Champions League, goals in the European Championship (14), international goals (128) and international appearances (206). He is one of the few players to have made over 1,200 professional career appearances, the most by an outfield player, and has scored over 880 official senior career goals for club and country, making him the top goalscorer of all time.\n",
    "\"\"\""
   ]
  },
  {
   "cell_type": "code",
   "execution_count": 4,
   "id": "f5c099c6",
   "metadata": {},
   "outputs": [
    {
     "data": {
      "text/plain": [
       "\"\\nCristiano Ronaldo dos Santos Aveiro GOIH ComM (Portuguese pronunciation: [kɾiʃˈtjɐnu ʁɔˈnaldu]; born 5 February 1985) is a Portuguese professional footballer who plays as a forward for and captains both Saudi Pro League club Al Nassr and the Portugal national team. Widely regarded as one of the greatest players of all time, Ronaldo has won five Ballon d'Or awards,[note 3] a record three UEFA Men's Player of the Year Awards, and four European Golden Shoes, the most by a European player. He has won 33 trophies in his career, including seven league titles, five UEFA Champions Leagues, the UEFA European Championship and the UEFA Nations League. Ronaldo holds the records for most appearances (183), goals (140) and assists (42) in the Champions League, goals in the European Championship (14), international goals (128) and international appearances (206). He is one of the few players to have made over 1,200 professional career appearances, the most by an outfield player, and has scored over 880 official senior career goals for club and country, making him the top goalscorer of all time.\\n\""
      ]
     },
     "execution_count": 4,
     "metadata": {},
     "output_type": "execute_result"
    }
   ],
   "source": [
    "paragraph\n"
   ]
  },
  {
   "cell_type": "markdown",
   "id": "800b407f",
   "metadata": {},
   "source": [
    "## Tokenization (converts Paragraph -> Sentences -> Words )"
   ]
  },
  {
   "cell_type": "code",
   "execution_count": 5,
   "id": "22a3fe80",
   "metadata": {},
   "outputs": [
    {
     "name": "stderr",
     "output_type": "stream",
     "text": [
      "[nltk_data] Downloading package punkt to /Users/buri/nltk_data...\n",
      "[nltk_data]   Package punkt is already up-to-date!\n"
     ]
    }
   ],
   "source": [
    "nltk.download('punkt')\n",
    "sentences = nltk.sent_tokenize(paragraph)"
   ]
  },
  {
   "cell_type": "code",
   "execution_count": 6,
   "id": "fda747a8",
   "metadata": {},
   "outputs": [
    {
     "data": {
      "text/plain": [
       "['\\nCristiano Ronaldo dos Santos Aveiro GOIH ComM (Portuguese pronunciation: [kɾiʃˈtjɐnu ʁɔˈnaldu]; born 5 February 1985) is a Portuguese professional footballer who plays as a forward for and captains both Saudi Pro League club Al Nassr and the Portugal national team.',\n",
       " \"Widely regarded as one of the greatest players of all time, Ronaldo has won five Ballon d'Or awards,[note 3] a record three UEFA Men's Player of the Year Awards, and four European Golden Shoes, the most by a European player.\",\n",
       " 'He has won 33 trophies in his career, including seven league titles, five UEFA Champions Leagues, the UEFA European Championship and the UEFA Nations League.',\n",
       " 'Ronaldo holds the records for most appearances (183), goals (140) and assists (42) in the Champions League, goals in the European Championship (14), international goals (128) and international appearances (206).',\n",
       " 'He is one of the few players to have made over 1,200 professional career appearances, the most by an outfield player, and has scored over 880 official senior career goals for club and country, making him the top goalscorer of all time.']"
      ]
     },
     "execution_count": 6,
     "metadata": {},
     "output_type": "execute_result"
    }
   ],
   "source": [
    "sentences"
   ]
  },
  {
   "cell_type": "code",
   "execution_count": 7,
   "id": "456c6d6e",
   "metadata": {},
   "outputs": [
    {
     "data": {
      "text/plain": [
       "'histori'"
      ]
     },
     "execution_count": 7,
     "metadata": {},
     "output_type": "execute_result"
    }
   ],
   "source": [
    "stemmer = PorterStemmer()\n",
    "stemmer.stem(\"history\")"
   ]
  },
  {
   "cell_type": "code",
   "execution_count": 8,
   "id": "afde72f3",
   "metadata": {},
   "outputs": [
    {
     "name": "stderr",
     "output_type": "stream",
     "text": [
      "[nltk_data] Downloading package wordnet to /Users/buri/nltk_data...\n",
      "[nltk_data]   Package wordnet is already up-to-date!\n"
     ]
    },
    {
     "data": {
      "text/plain": [
       "True"
      ]
     },
     "execution_count": 8,
     "metadata": {},
     "output_type": "execute_result"
    }
   ],
   "source": [
    "nltk.download('wordnet')"
   ]
  },
  {
   "cell_type": "code",
   "execution_count": 9,
   "id": "8594309f",
   "metadata": {},
   "outputs": [],
   "source": [
    "from nltk.stem import WordNetLemmatizer"
   ]
  },
  {
   "cell_type": "code",
   "execution_count": 10,
   "id": "237c3f6c",
   "metadata": {},
   "outputs": [],
   "source": [
    "lemmatizer = WordNetLemmatizer()"
   ]
  },
  {
   "cell_type": "code",
   "execution_count": 11,
   "id": "ff6b59a7",
   "metadata": {},
   "outputs": [
    {
     "data": {
      "text/plain": [
       "'history'"
      ]
     },
     "execution_count": 11,
     "metadata": {},
     "output_type": "execute_result"
    }
   ],
   "source": [
    "lemmatizer.lemmatize('history')"
   ]
  },
  {
   "cell_type": "code",
   "execution_count": 12,
   "id": "c717ef18",
   "metadata": {},
   "outputs": [
    {
     "data": {
      "text/plain": [
       "5"
      ]
     },
     "execution_count": 12,
     "metadata": {},
     "output_type": "execute_result"
    }
   ],
   "source": [
    "len(sentences)"
   ]
  },
  {
   "cell_type": "code",
   "execution_count": 13,
   "id": "4996b670",
   "metadata": {},
   "outputs": [],
   "source": [
    "import re"
   ]
  },
  {
   "cell_type": "code",
   "execution_count": 14,
   "id": "a85fbf81",
   "metadata": {},
   "outputs": [],
   "source": [
    "corpus= []\n",
    "for i in range(len(sentences)):\n",
    "    review = re.sub('[^a-zA-Z]',' ',sentences[i])\n",
    "    review = review.lower()\n",
    "    corpus.append(review)"
   ]
  },
  {
   "cell_type": "code",
   "execution_count": 15,
   "id": "e9e4305f",
   "metadata": {},
   "outputs": [
    {
     "data": {
      "text/plain": [
       "[' cristiano ronaldo dos santos aveiro goih comm  portuguese pronunciation   k i  tj nu    naldu   born   february       is a portuguese professional footballer who plays as a forward for and captains both saudi pro league club al nassr and the portugal national team ',\n",
       " 'widely regarded as one of the greatest players of all time  ronaldo has won five ballon d or awards  note    a record three uefa men s player of the year awards  and four european golden shoes  the most by a european player ',\n",
       " 'he has won    trophies in his career  including seven league titles  five uefa champions leagues  the uefa european championship and the uefa nations league ',\n",
       " 'ronaldo holds the records for most appearances        goals       and assists      in the champions league  goals in the european championship       international goals       and international appearances       ',\n",
       " 'he is one of the few players to have made over       professional career appearances  the most by an outfield player  and has scored over     official senior career goals for club and country  making him the top goalscorer of all time ']"
      ]
     },
     "execution_count": 15,
     "metadata": {},
     "output_type": "execute_result"
    }
   ],
   "source": [
    "corpus"
   ]
  },
  {
   "cell_type": "code",
   "execution_count": 16,
   "id": "ca8bcd0b",
   "metadata": {},
   "outputs": [
    {
     "name": "stdout",
     "output_type": "stream",
     "text": [
      "cristiano\n",
      "ronaldo\n",
      "do\n",
      "santo\n",
      "aveiro\n",
      "goih\n",
      "comm\n",
      "portugues\n",
      "pronunci\n",
      "k\n",
      "tj\n",
      "nu\n",
      "naldu\n",
      "born\n",
      "februari\n",
      "portugues\n",
      "profession\n",
      "footbal\n",
      "play\n",
      "forward\n",
      "captain\n",
      "saudi\n",
      "pro\n",
      "leagu\n",
      "club\n",
      "al\n",
      "nassr\n",
      "portug\n",
      "nation\n",
      "team\n",
      "wide\n",
      "regard\n",
      "one\n",
      "greatest\n",
      "player\n",
      "time\n",
      "ronaldo\n",
      "five\n",
      "ballon\n",
      "award\n",
      "note\n",
      "record\n",
      "three\n",
      "uefa\n",
      "men\n",
      "player\n",
      "year\n",
      "award\n",
      "four\n",
      "european\n",
      "golden\n",
      "shoe\n",
      "european\n",
      "player\n",
      "trophi\n",
      "career\n",
      "includ\n",
      "seven\n",
      "leagu\n",
      "titl\n",
      "five\n",
      "uefa\n",
      "champion\n",
      "leagu\n",
      "uefa\n",
      "european\n",
      "championship\n",
      "uefa\n",
      "nation\n",
      "leagu\n",
      "ronaldo\n",
      "hold\n",
      "record\n",
      "appear\n",
      "goal\n",
      "assist\n",
      "champion\n",
      "leagu\n",
      "goal\n",
      "european\n",
      "championship\n",
      "intern\n",
      "goal\n",
      "intern\n",
      "appear\n",
      "one\n",
      "player\n",
      "made\n",
      "profession\n",
      "career\n",
      "appear\n",
      "outfield\n",
      "player\n",
      "score\n",
      "offici\n",
      "senior\n",
      "career\n",
      "goal\n",
      "club\n",
      "countri\n",
      "make\n",
      "top\n",
      "goalscor\n",
      "time\n"
     ]
    }
   ],
   "source": [
    "# stemming\n",
    "for i in corpus:\n",
    "    words = nltk.word_tokenize(i)\n",
    "    for word in words:\n",
    "        if word not in set(stopwords.words('english')):\n",
    "            print(stemmer.stem(word))"
   ]
  },
  {
   "cell_type": "code",
   "execution_count": 17,
   "id": "8a8d3b29",
   "metadata": {},
   "outputs": [
    {
     "name": "stdout",
     "output_type": "stream",
     "text": [
      "cristiano\n",
      "ronaldo\n",
      "do\n",
      "santos\n",
      "aveiro\n",
      "goih\n",
      "comm\n",
      "portuguese\n",
      "pronunciation\n",
      "k\n",
      "tj\n",
      "nu\n",
      "naldu\n",
      "born\n",
      "february\n",
      "portuguese\n",
      "professional\n",
      "footballer\n",
      "play\n",
      "forward\n",
      "captain\n",
      "saudi\n",
      "pro\n",
      "league\n",
      "club\n",
      "al\n",
      "nassr\n",
      "portugal\n",
      "national\n",
      "team\n",
      "widely\n",
      "regarded\n",
      "one\n",
      "greatest\n",
      "player\n",
      "time\n",
      "ronaldo\n",
      "five\n",
      "ballon\n",
      "award\n",
      "note\n",
      "record\n",
      "three\n",
      "uefa\n",
      "men\n",
      "player\n",
      "year\n",
      "award\n",
      "four\n",
      "european\n",
      "golden\n",
      "shoe\n",
      "european\n",
      "player\n",
      "trophy\n",
      "career\n",
      "including\n",
      "seven\n",
      "league\n",
      "title\n",
      "five\n",
      "uefa\n",
      "champion\n",
      "league\n",
      "uefa\n",
      "european\n",
      "championship\n",
      "uefa\n",
      "nation\n",
      "league\n",
      "ronaldo\n",
      "hold\n",
      "record\n",
      "appearance\n",
      "goal\n",
      "assist\n",
      "champion\n",
      "league\n",
      "goal\n",
      "european\n",
      "championship\n",
      "international\n",
      "goal\n",
      "international\n",
      "appearance\n",
      "one\n",
      "player\n",
      "made\n",
      "professional\n",
      "career\n",
      "appearance\n",
      "outfield\n",
      "player\n",
      "scored\n",
      "official\n",
      "senior\n",
      "career\n",
      "goal\n",
      "club\n",
      "country\n",
      "making\n",
      "top\n",
      "goalscorer\n",
      "time\n"
     ]
    }
   ],
   "source": [
    "# stemming\n",
    "for i in corpus:\n",
    "    words = nltk.word_tokenize(i)\n",
    "    for word in words:\n",
    "        if word not in set(stopwords.words('english')):\n",
    "            print(lemmatizer.lemmatize(word))"
   ]
  },
  {
   "cell_type": "code",
   "execution_count": 18,
   "id": "facdc74d",
   "metadata": {},
   "outputs": [],
   "source": [
    "# # Apply stop words\n",
    "# import re\n",
    "# corpus= []\n",
    "# for i in range(len(sentences)):\n",
    "#     review = re.sub('[^a-zA-Z]',' ',sentences[i])\n",
    "#     review = review.lower()\n",
    "#     review = [lemmatizer.lemmatize(word) for word in review if not word in set (stopwords.words('english')) ]\n",
    "#     review = ' '.join(review)\n",
    "#     corpus.append(review)"
   ]
  },
  {
   "cell_type": "code",
   "execution_count": 19,
   "id": "3f1f418f",
   "metadata": {},
   "outputs": [],
   "source": [
    "from sklearn.feature_extraction.text import CountVectorizer\n",
    "cv = CountVectorizer()"
   ]
  },
  {
   "cell_type": "code",
   "execution_count": 20,
   "id": "a38ea97c",
   "metadata": {},
   "outputs": [],
   "source": [
    "X = cv.fit_transform(corpus)"
   ]
  },
  {
   "cell_type": "code",
   "execution_count": 21,
   "id": "ee8d3188",
   "metadata": {},
   "outputs": [
    {
     "data": {
      "text/plain": [
       "{'cristiano': 20,\n",
       " 'ronaldo': 74,\n",
       " 'dos': 21,\n",
       " 'santos': 75,\n",
       " 'aveiro': 7,\n",
       " 'goih': 32,\n",
       " 'comm': 18,\n",
       " 'portuguese': 67,\n",
       " 'pronunciation': 70,\n",
       " 'tj': 86,\n",
       " 'nu': 56,\n",
       " 'naldu': 51,\n",
       " 'born': 10,\n",
       " 'february': 23,\n",
       " 'is': 44,\n",
       " 'professional': 69,\n",
       " 'footballer': 26,\n",
       " 'who': 91,\n",
       " 'plays': 65,\n",
       " 'as': 5,\n",
       " 'forward': 28,\n",
       " 'for': 27,\n",
       " 'and': 3,\n",
       " 'captains': 13,\n",
       " 'both': 11,\n",
       " 'saudi': 76,\n",
       " 'pro': 68,\n",
       " 'league': 45,\n",
       " 'club': 17,\n",
       " 'al': 0,\n",
       " 'nassr': 52,\n",
       " 'the': 82,\n",
       " 'portugal': 66,\n",
       " 'national': 53,\n",
       " 'team': 81,\n",
       " 'widely': 92,\n",
       " 'regarded': 73,\n",
       " 'one': 59,\n",
       " 'of': 57,\n",
       " 'greatest': 34,\n",
       " 'players': 64,\n",
       " 'all': 1,\n",
       " 'time': 84,\n",
       " 'has': 35,\n",
       " 'won': 93,\n",
       " 'five': 25,\n",
       " 'ballon': 9,\n",
       " 'or': 60,\n",
       " 'awards': 8,\n",
       " 'note': 55,\n",
       " 'record': 71,\n",
       " 'three': 83,\n",
       " 'uefa': 90,\n",
       " 'men': 49,\n",
       " 'player': 63,\n",
       " 'year': 94,\n",
       " 'four': 29,\n",
       " 'european': 22,\n",
       " 'golden': 33,\n",
       " 'shoes': 80,\n",
       " 'most': 50,\n",
       " 'by': 12,\n",
       " 'he': 37,\n",
       " 'trophies': 89,\n",
       " 'in': 41,\n",
       " 'his': 39,\n",
       " 'career': 14,\n",
       " 'including': 42,\n",
       " 'seven': 79,\n",
       " 'titles': 85,\n",
       " 'champions': 15,\n",
       " 'leagues': 46,\n",
       " 'championship': 16,\n",
       " 'nations': 54,\n",
       " 'holds': 40,\n",
       " 'records': 72,\n",
       " 'appearances': 4,\n",
       " 'goals': 30,\n",
       " 'assists': 6,\n",
       " 'international': 43,\n",
       " 'few': 24,\n",
       " 'to': 87,\n",
       " 'have': 36,\n",
       " 'made': 47,\n",
       " 'over': 62,\n",
       " 'an': 2,\n",
       " 'outfield': 61,\n",
       " 'scored': 77,\n",
       " 'official': 58,\n",
       " 'senior': 78,\n",
       " 'country': 19,\n",
       " 'making': 48,\n",
       " 'him': 38,\n",
       " 'top': 88,\n",
       " 'goalscorer': 31}"
      ]
     },
     "execution_count": 21,
     "metadata": {},
     "output_type": "execute_result"
    }
   ],
   "source": [
    "cv.vocabulary_"
   ]
  },
  {
   "cell_type": "code",
   "execution_count": 22,
   "id": "95412412",
   "metadata": {},
   "outputs": [
    {
     "data": {
      "text/plain": [
       "' cristiano ronaldo dos santos aveiro goih comm  portuguese pronunciation   k i  tj nu    naldu   born   february       is a portuguese professional footballer who plays as a forward for and captains both saudi pro league club al nassr and the portugal national team '"
      ]
     },
     "execution_count": 22,
     "metadata": {},
     "output_type": "execute_result"
    }
   ],
   "source": [
    "corpus[0]"
   ]
  },
  {
   "cell_type": "code",
   "execution_count": 23,
   "id": "565c0add",
   "metadata": {},
   "outputs": [
    {
     "data": {
      "text/plain": [
       "array([[1, 0, 0, 2, 0, 1, 0, 1, 0, 0, 1, 1, 0, 1, 0, 0, 0, 1, 1, 0, 1, 1,\n",
       "        0, 1, 0, 0, 1, 1, 1, 0, 0, 0, 1, 0, 0, 0, 0, 0, 0, 0, 0, 0, 0, 0,\n",
       "        1, 1, 0, 0, 0, 0, 0, 1, 1, 1, 0, 0, 1, 0, 0, 0, 0, 0, 0, 0, 0, 1,\n",
       "        1, 2, 1, 1, 1, 0, 0, 0, 1, 1, 1, 0, 0, 0, 0, 1, 1, 0, 0, 0, 1, 0,\n",
       "        0, 0, 0, 1, 0, 0, 0]])"
      ]
     },
     "execution_count": 23,
     "metadata": {},
     "output_type": "execute_result"
    }
   ],
   "source": [
    "X[0].toarray()"
   ]
  },
  {
   "cell_type": "code",
   "execution_count": null,
   "id": "9297aefe",
   "metadata": {},
   "outputs": [],
   "source": []
  }
 ],
 "metadata": {
  "kernelspec": {
   "display_name": "Python 3 (ipykernel)",
   "language": "python",
   "name": "python3"
  },
  "language_info": {
   "codemirror_mode": {
    "name": "ipython",
    "version": 3
   },
   "file_extension": ".py",
   "mimetype": "text/x-python",
   "name": "python",
   "nbconvert_exporter": "python",
   "pygments_lexer": "ipython3",
   "version": "3.11.5"
  }
 },
 "nbformat": 4,
 "nbformat_minor": 5
}
