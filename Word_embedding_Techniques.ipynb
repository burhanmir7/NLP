{
  "cells": [
    {
      "cell_type": "markdown",
      "metadata": {
        "id": "eHNf7J680XF-"
      },
      "source": [
        "### Word Embedding Techniques using Embedding Layer in Keras"
      ]
    },
    {
      "cell_type": "code",
      "execution_count": 1,
      "metadata": {
        "id": "PEsK0_yl0XGB"
      },
      "outputs": [],
      "source": [
        "### Libraries USed Tensorflow> 2.0  and keras"
      ]
    },
    {
      "cell_type": "code",
      "execution_count": 6,
      "metadata": {
        "colab": {
          "base_uri": "https://localhost:8080/",
          "height": 1000
        },
        "id": "pslw1Ya90XGC",
        "outputId": "c08fb495-9cff-4f04-cb4c-b13880041a8a"
      },
      "outputs": [
        {
          "output_type": "stream",
          "name": "stdout",
          "text": [
            "Collecting tensorflow-gpu==2.9.1\n",
            "  Downloading tensorflow_gpu-2.9.1-cp310-cp310-manylinux_2_17_x86_64.manylinux2014_x86_64.whl (511.7 MB)\n",
            "\u001b[2K     \u001b[90m━━━━━━━━━━━━━━━━━━━━━━━━━━━━━━━━━━━━━━━━\u001b[0m \u001b[32m511.7/511.7 MB\u001b[0m \u001b[31m3.2 MB/s\u001b[0m eta \u001b[36m0:00:00\u001b[0m\n",
            "\u001b[?25hRequirement already satisfied: absl-py>=1.0.0 in /usr/local/lib/python3.10/dist-packages (from tensorflow-gpu==2.9.1) (1.4.0)\n",
            "Requirement already satisfied: astunparse>=1.6.0 in /usr/local/lib/python3.10/dist-packages (from tensorflow-gpu==2.9.1) (1.6.3)\n",
            "Collecting flatbuffers<2,>=1.12 (from tensorflow-gpu==2.9.1)\n",
            "  Downloading flatbuffers-1.12-py2.py3-none-any.whl (15 kB)\n",
            "Collecting gast<=0.4.0,>=0.2.1 (from tensorflow-gpu==2.9.1)\n",
            "  Downloading gast-0.4.0-py3-none-any.whl (9.8 kB)\n",
            "Requirement already satisfied: google-pasta>=0.1.1 in /usr/local/lib/python3.10/dist-packages (from tensorflow-gpu==2.9.1) (0.2.0)\n",
            "Requirement already satisfied: grpcio<2.0,>=1.24.3 in /usr/local/lib/python3.10/dist-packages (from tensorflow-gpu==2.9.1) (1.62.2)\n",
            "Requirement already satisfied: h5py>=2.9.0 in /usr/local/lib/python3.10/dist-packages (from tensorflow-gpu==2.9.1) (3.9.0)\n",
            "Collecting keras<2.10.0,>=2.9.0rc0 (from tensorflow-gpu==2.9.1)\n",
            "  Downloading keras-2.9.0-py2.py3-none-any.whl (1.6 MB)\n",
            "\u001b[2K     \u001b[90m━━━━━━━━━━━━━━━━━━━━━━━━━━━━━━━━━━━━━━━━\u001b[0m \u001b[32m1.6/1.6 MB\u001b[0m \u001b[31m89.0 MB/s\u001b[0m eta \u001b[36m0:00:00\u001b[0m\n",
            "\u001b[?25hCollecting keras-preprocessing>=1.1.1 (from tensorflow-gpu==2.9.1)\n",
            "  Downloading Keras_Preprocessing-1.1.2-py2.py3-none-any.whl (42 kB)\n",
            "\u001b[2K     \u001b[90m━━━━━━━━━━━━━━━━━━━━━━━━━━━━━━━━━━━━━━━━\u001b[0m \u001b[32m42.6/42.6 kB\u001b[0m \u001b[31m6.3 MB/s\u001b[0m eta \u001b[36m0:00:00\u001b[0m\n",
            "\u001b[?25hRequirement already satisfied: libclang>=13.0.0 in /usr/local/lib/python3.10/dist-packages (from tensorflow-gpu==2.9.1) (18.1.1)\n",
            "Requirement already satisfied: numpy>=1.20 in /usr/local/lib/python3.10/dist-packages (from tensorflow-gpu==2.9.1) (1.25.2)\n",
            "Requirement already satisfied: opt-einsum>=2.3.2 in /usr/local/lib/python3.10/dist-packages (from tensorflow-gpu==2.9.1) (3.3.0)\n",
            "Requirement already satisfied: packaging in /usr/local/lib/python3.10/dist-packages (from tensorflow-gpu==2.9.1) (24.0)\n",
            "Collecting protobuf<3.20,>=3.9.2 (from tensorflow-gpu==2.9.1)\n",
            "  Downloading protobuf-3.19.6-cp310-cp310-manylinux_2_17_x86_64.manylinux2014_x86_64.whl (1.1 MB)\n",
            "\u001b[2K     \u001b[90m━━━━━━━━━━━━━━━━━━━━━━━━━━━━━━━━━━━━━━━━\u001b[0m \u001b[32m1.1/1.1 MB\u001b[0m \u001b[31m77.9 MB/s\u001b[0m eta \u001b[36m0:00:00\u001b[0m\n",
            "\u001b[?25hRequirement already satisfied: setuptools in /usr/local/lib/python3.10/dist-packages (from tensorflow-gpu==2.9.1) (67.7.2)\n",
            "Requirement already satisfied: six>=1.12.0 in /usr/local/lib/python3.10/dist-packages (from tensorflow-gpu==2.9.1) (1.16.0)\n",
            "Collecting tensorboard<2.10,>=2.9 (from tensorflow-gpu==2.9.1)\n",
            "  Downloading tensorboard-2.9.1-py3-none-any.whl (5.8 MB)\n",
            "\u001b[2K     \u001b[90m━━━━━━━━━━━━━━━━━━━━━━━━━━━━━━━━━━━━━━━━\u001b[0m \u001b[32m5.8/5.8 MB\u001b[0m \u001b[31m102.3 MB/s\u001b[0m eta \u001b[36m0:00:00\u001b[0m\n",
            "\u001b[?25hRequirement already satisfied: tensorflow-io-gcs-filesystem>=0.23.1 in /usr/local/lib/python3.10/dist-packages (from tensorflow-gpu==2.9.1) (0.36.0)\n",
            "Collecting tensorflow-estimator<2.10.0,>=2.9.0rc0 (from tensorflow-gpu==2.9.1)\n",
            "  Downloading tensorflow_estimator-2.9.0-py2.py3-none-any.whl (438 kB)\n",
            "\u001b[2K     \u001b[90m━━━━━━━━━━━━━━━━━━━━━━━━━━━━━━━━━━━━━━━━\u001b[0m \u001b[32m438.7/438.7 kB\u001b[0m \u001b[31m37.8 MB/s\u001b[0m eta \u001b[36m0:00:00\u001b[0m\n",
            "\u001b[?25hRequirement already satisfied: termcolor>=1.1.0 in /usr/local/lib/python3.10/dist-packages (from tensorflow-gpu==2.9.1) (2.4.0)\n",
            "Requirement already satisfied: typing-extensions>=3.6.6 in /usr/local/lib/python3.10/dist-packages (from tensorflow-gpu==2.9.1) (4.11.0)\n",
            "Requirement already satisfied: wrapt>=1.11.0 in /usr/local/lib/python3.10/dist-packages (from tensorflow-gpu==2.9.1) (1.14.1)\n",
            "Requirement already satisfied: wheel<1.0,>=0.23.0 in /usr/local/lib/python3.10/dist-packages (from astunparse>=1.6.0->tensorflow-gpu==2.9.1) (0.43.0)\n",
            "Requirement already satisfied: google-auth<3,>=1.6.3 in /usr/local/lib/python3.10/dist-packages (from tensorboard<2.10,>=2.9->tensorflow-gpu==2.9.1) (2.27.0)\n",
            "Collecting google-auth-oauthlib<0.5,>=0.4.1 (from tensorboard<2.10,>=2.9->tensorflow-gpu==2.9.1)\n",
            "  Downloading google_auth_oauthlib-0.4.6-py2.py3-none-any.whl (18 kB)\n",
            "Requirement already satisfied: markdown>=2.6.8 in /usr/local/lib/python3.10/dist-packages (from tensorboard<2.10,>=2.9->tensorflow-gpu==2.9.1) (3.6)\n",
            "Requirement already satisfied: requests<3,>=2.21.0 in /usr/local/lib/python3.10/dist-packages (from tensorboard<2.10,>=2.9->tensorflow-gpu==2.9.1) (2.31.0)\n",
            "Collecting tensorboard-data-server<0.7.0,>=0.6.0 (from tensorboard<2.10,>=2.9->tensorflow-gpu==2.9.1)\n",
            "  Downloading tensorboard_data_server-0.6.1-py3-none-manylinux2010_x86_64.whl (4.9 MB)\n",
            "\u001b[2K     \u001b[90m━━━━━━━━━━━━━━━━━━━━━━━━━━━━━━━━━━━━━━━━\u001b[0m \u001b[32m4.9/4.9 MB\u001b[0m \u001b[31m73.8 MB/s\u001b[0m eta \u001b[36m0:00:00\u001b[0m\n",
            "\u001b[?25hCollecting tensorboard-plugin-wit>=1.6.0 (from tensorboard<2.10,>=2.9->tensorflow-gpu==2.9.1)\n",
            "  Downloading tensorboard_plugin_wit-1.8.1-py3-none-any.whl (781 kB)\n",
            "\u001b[2K     \u001b[90m━━━━━━━━━━━━━━━━━━━━━━━━━━━━━━━━━━━━━━━━\u001b[0m \u001b[32m781.3/781.3 kB\u001b[0m \u001b[31m49.0 MB/s\u001b[0m eta \u001b[36m0:00:00\u001b[0m\n",
            "\u001b[?25hRequirement already satisfied: werkzeug>=1.0.1 in /usr/local/lib/python3.10/dist-packages (from tensorboard<2.10,>=2.9->tensorflow-gpu==2.9.1) (3.0.2)\n",
            "Requirement already satisfied: cachetools<6.0,>=2.0.0 in /usr/local/lib/python3.10/dist-packages (from google-auth<3,>=1.6.3->tensorboard<2.10,>=2.9->tensorflow-gpu==2.9.1) (5.3.3)\n",
            "Requirement already satisfied: pyasn1-modules>=0.2.1 in /usr/local/lib/python3.10/dist-packages (from google-auth<3,>=1.6.3->tensorboard<2.10,>=2.9->tensorflow-gpu==2.9.1) (0.4.0)\n",
            "Requirement already satisfied: rsa<5,>=3.1.4 in /usr/local/lib/python3.10/dist-packages (from google-auth<3,>=1.6.3->tensorboard<2.10,>=2.9->tensorflow-gpu==2.9.1) (4.9)\n",
            "Requirement already satisfied: requests-oauthlib>=0.7.0 in /usr/local/lib/python3.10/dist-packages (from google-auth-oauthlib<0.5,>=0.4.1->tensorboard<2.10,>=2.9->tensorflow-gpu==2.9.1) (1.3.1)\n",
            "Requirement already satisfied: charset-normalizer<4,>=2 in /usr/local/lib/python3.10/dist-packages (from requests<3,>=2.21.0->tensorboard<2.10,>=2.9->tensorflow-gpu==2.9.1) (3.3.2)\n",
            "Requirement already satisfied: idna<4,>=2.5 in /usr/local/lib/python3.10/dist-packages (from requests<3,>=2.21.0->tensorboard<2.10,>=2.9->tensorflow-gpu==2.9.1) (3.7)\n",
            "Requirement already satisfied: urllib3<3,>=1.21.1 in /usr/local/lib/python3.10/dist-packages (from requests<3,>=2.21.0->tensorboard<2.10,>=2.9->tensorflow-gpu==2.9.1) (2.0.7)\n",
            "Requirement already satisfied: certifi>=2017.4.17 in /usr/local/lib/python3.10/dist-packages (from requests<3,>=2.21.0->tensorboard<2.10,>=2.9->tensorflow-gpu==2.9.1) (2024.2.2)\n",
            "Requirement already satisfied: MarkupSafe>=2.1.1 in /usr/local/lib/python3.10/dist-packages (from werkzeug>=1.0.1->tensorboard<2.10,>=2.9->tensorflow-gpu==2.9.1) (2.1.5)\n",
            "Requirement already satisfied: pyasn1<0.7.0,>=0.4.6 in /usr/local/lib/python3.10/dist-packages (from pyasn1-modules>=0.2.1->google-auth<3,>=1.6.3->tensorboard<2.10,>=2.9->tensorflow-gpu==2.9.1) (0.6.0)\n",
            "Requirement already satisfied: oauthlib>=3.0.0 in /usr/local/lib/python3.10/dist-packages (from requests-oauthlib>=0.7.0->google-auth-oauthlib<0.5,>=0.4.1->tensorboard<2.10,>=2.9->tensorflow-gpu==2.9.1) (3.2.2)\n",
            "Installing collected packages: tensorboard-plugin-wit, keras, flatbuffers, tensorflow-estimator, tensorboard-data-server, protobuf, keras-preprocessing, gast, google-auth-oauthlib, tensorboard, tensorflow-gpu\n",
            "  Attempting uninstall: keras\n",
            "    Found existing installation: keras 2.15.0\n",
            "    Uninstalling keras-2.15.0:\n",
            "      Successfully uninstalled keras-2.15.0\n",
            "  Attempting uninstall: flatbuffers\n",
            "    Found existing installation: flatbuffers 24.3.25\n",
            "    Uninstalling flatbuffers-24.3.25:\n",
            "      Successfully uninstalled flatbuffers-24.3.25\n",
            "  Attempting uninstall: tensorflow-estimator\n",
            "    Found existing installation: tensorflow-estimator 2.15.0\n",
            "    Uninstalling tensorflow-estimator-2.15.0:\n",
            "      Successfully uninstalled tensorflow-estimator-2.15.0\n",
            "  Attempting uninstall: tensorboard-data-server\n",
            "    Found existing installation: tensorboard-data-server 0.7.2\n",
            "    Uninstalling tensorboard-data-server-0.7.2:\n",
            "      Successfully uninstalled tensorboard-data-server-0.7.2\n",
            "  Attempting uninstall: protobuf\n",
            "    Found existing installation: protobuf 3.20.3\n",
            "    Uninstalling protobuf-3.20.3:\n",
            "      Successfully uninstalled protobuf-3.20.3\n",
            "  Attempting uninstall: gast\n",
            "    Found existing installation: gast 0.5.4\n",
            "    Uninstalling gast-0.5.4:\n",
            "      Successfully uninstalled gast-0.5.4\n",
            "  Attempting uninstall: google-auth-oauthlib\n",
            "    Found existing installation: google-auth-oauthlib 1.2.0\n",
            "    Uninstalling google-auth-oauthlib-1.2.0:\n",
            "      Successfully uninstalled google-auth-oauthlib-1.2.0\n",
            "  Attempting uninstall: tensorboard\n",
            "    Found existing installation: tensorboard 2.15.2\n",
            "    Uninstalling tensorboard-2.15.2:\n",
            "      Successfully uninstalled tensorboard-2.15.2\n",
            "\u001b[31mERROR: pip's dependency resolver does not currently take into account all the packages that are installed. This behaviour is the source of the following dependency conflicts.\n",
            "pandas-gbq 0.19.2 requires google-auth-oauthlib>=0.7.0, but you have google-auth-oauthlib 0.4.6 which is incompatible.\n",
            "tensorflow 2.15.0 requires flatbuffers>=23.5.26, but you have flatbuffers 1.12 which is incompatible.\n",
            "tensorflow 2.15.0 requires keras<2.16,>=2.15.0, but you have keras 2.9.0 which is incompatible.\n",
            "tensorflow 2.15.0 requires protobuf!=4.21.0,!=4.21.1,!=4.21.2,!=4.21.3,!=4.21.4,!=4.21.5,<5.0.0dev,>=3.20.3, but you have protobuf 3.19.6 which is incompatible.\n",
            "tensorflow 2.15.0 requires tensorboard<2.16,>=2.15, but you have tensorboard 2.9.1 which is incompatible.\n",
            "tensorflow 2.15.0 requires tensorflow-estimator<2.16,>=2.15.0, but you have tensorflow-estimator 2.9.0 which is incompatible.\n",
            "tensorflow-datasets 4.9.4 requires protobuf>=3.20, but you have protobuf 3.19.6 which is incompatible.\n",
            "tensorflow-metadata 1.14.0 requires protobuf<4.21,>=3.20.3, but you have protobuf 3.19.6 which is incompatible.\u001b[0m\u001b[31m\n",
            "\u001b[0mSuccessfully installed flatbuffers-1.12 gast-0.4.0 google-auth-oauthlib-0.4.6 keras-2.9.0 keras-preprocessing-1.1.2 protobuf-3.19.6 tensorboard-2.9.1 tensorboard-data-server-0.6.1 tensorboard-plugin-wit-1.8.1 tensorflow-estimator-2.9.0 tensorflow-gpu-2.9.1\n"
          ]
        },
        {
          "output_type": "display_data",
          "data": {
            "application/vnd.colab-display-data+json": {
              "pip_warning": {
                "packages": [
                  "flatbuffers",
                  "gast",
                  "google",
                  "keras",
                  "tensorboard",
                  "tensorflow"
                ]
              },
              "id": "2f20c7b372764ba98c2104333be71e7c"
            }
          },
          "metadata": {}
        }
      ],
      "source": [
        "!pip install tensorflow-gpu==2.9.1\n"
      ]
    },
    {
      "cell_type": "code",
      "source": [
        "import tensorflow as tf\n",
        "print(tf.__version__)"
      ],
      "metadata": {
        "colab": {
          "base_uri": "https://localhost:8080/"
        },
        "id": "yZ5hceiMAX7n",
        "outputId": "9752427f-94df-4553-e0f6-59c85ec4ee4e"
      },
      "execution_count": 3,
      "outputs": [
        {
          "output_type": "stream",
          "name": "stdout",
          "text": [
            "2.9.1\n"
          ]
        }
      ]
    },
    {
      "cell_type": "code",
      "execution_count": 1,
      "metadata": {
        "id": "k4nKifUl0XGC"
      },
      "outputs": [],
      "source": [
        "##tensorflow >2.0\n",
        "from tensorflow.keras.preprocessing.text import one_hot"
      ]
    },
    {
      "cell_type": "code",
      "source": [],
      "metadata": {
        "id": "hADTdqZTAUfS"
      },
      "execution_count": null,
      "outputs": []
    },
    {
      "cell_type": "code",
      "execution_count": 2,
      "metadata": {
        "id": "Fu9PuYeu0XGD"
      },
      "outputs": [],
      "source": [
        "### sentences\n",
        "sent=[  'the glass of milk',\n",
        "     'the glass of juice',\n",
        "     'the cup of tea',\n",
        "    'I am a good boy',\n",
        "     'I am a good developer',\n",
        "     'understand the meaning of words',\n",
        "     'your videos are good']"
      ]
    },
    {
      "cell_type": "code",
      "execution_count": 3,
      "metadata": {
        "colab": {
          "base_uri": "https://localhost:8080/"
        },
        "id": "x5d1D3_20XGD",
        "outputId": "e7440095-a8b9-40af-c583-4a033e684a1c"
      },
      "outputs": [
        {
          "output_type": "execute_result",
          "data": {
            "text/plain": [
              "['the glass of milk',\n",
              " 'the glass of juice',\n",
              " 'the cup of tea',\n",
              " 'I am a good boy',\n",
              " 'I am a good developer',\n",
              " 'understand the meaning of words',\n",
              " 'your videos are good']"
            ]
          },
          "metadata": {},
          "execution_count": 3
        }
      ],
      "source": [
        "sent"
      ]
    },
    {
      "cell_type": "code",
      "execution_count": 6,
      "metadata": {
        "id": "tjnXIn3B0XGE"
      },
      "outputs": [],
      "source": [
        "### Vocabulary size\n",
        "voc_size=500"
      ]
    },
    {
      "cell_type": "markdown",
      "metadata": {
        "id": "-vQOdeKk0XGE"
      },
      "source": [
        "#### One Hot Representation"
      ]
    },
    {
      "cell_type": "code",
      "execution_count": 7,
      "metadata": {
        "colab": {
          "base_uri": "https://localhost:8080/"
        },
        "id": "gojfZpAW0XGE",
        "outputId": "1dc05887-5a64-4677-d5c1-3045a8f1be9b"
      },
      "outputs": [
        {
          "output_type": "stream",
          "name": "stdout",
          "text": [
            "[[80, 60, 389, 308], [80, 60, 389, 76], [80, 145, 389, 137], [130, 86, 356, 257, 305], [130, 86, 356, 257, 174], [421, 80, 492, 389, 134], [100, 445, 35, 257]]\n"
          ]
        }
      ],
      "source": [
        "onehot_repr=[one_hot(words,voc_size)for words in sent]\n",
        "print(onehot_repr)"
      ]
    },
    {
      "cell_type": "markdown",
      "metadata": {
        "id": "eYG267x40XGF"
      },
      "source": [
        "### Word Embedding Represntation"
      ]
    },
    {
      "cell_type": "code",
      "execution_count": 8,
      "metadata": {
        "id": "wpqPm0tb0XGF"
      },
      "outputs": [],
      "source": [
        "from tensorflow.keras.layers import Embedding\n",
        "from tensorflow.keras.preprocessing.sequence import pad_sequences\n",
        "from tensorflow.keras.models import Sequential"
      ]
    },
    {
      "cell_type": "code",
      "execution_count": 9,
      "metadata": {
        "id": "Rov3GTM00XGG"
      },
      "outputs": [],
      "source": [
        "import numpy as np"
      ]
    },
    {
      "cell_type": "code",
      "execution_count": 10,
      "metadata": {
        "colab": {
          "base_uri": "https://localhost:8080/"
        },
        "id": "8fQLPw6p0XGG",
        "outputId": "917de2c1-83fb-4d7d-afd4-2f028eb97188"
      },
      "outputs": [
        {
          "output_type": "stream",
          "name": "stdout",
          "text": [
            "[[  0   0   0   0  80  60 389 308]\n",
            " [  0   0   0   0  80  60 389  76]\n",
            " [  0   0   0   0  80 145 389 137]\n",
            " [  0   0   0 130  86 356 257 305]\n",
            " [  0   0   0 130  86 356 257 174]\n",
            " [  0   0   0 421  80 492 389 134]\n",
            " [  0   0   0   0 100 445  35 257]]\n"
          ]
        }
      ],
      "source": [
        "## pre padding\n",
        "sent_length=8\n",
        "embedded_docs=pad_sequences(onehot_repr,padding='pre',maxlen=sent_length)\n",
        "print(embedded_docs)"
      ]
    },
    {
      "cell_type": "code",
      "execution_count": null,
      "metadata": {
        "id": "yjQqBYac0XGG"
      },
      "outputs": [],
      "source": [
        "## 10 feature dimesnions\n",
        "dim=10\n"
      ]
    },
    {
      "cell_type": "code",
      "execution_count": 11,
      "metadata": {
        "id": "ozC-TXrt0XGG"
      },
      "outputs": [],
      "source": [
        "model=Sequential()\n",
        "model.add(Embedding(voc_size,10,input_length=sent_length))\n",
        "model.compile('adam','mse')"
      ]
    },
    {
      "cell_type": "code",
      "execution_count": 12,
      "metadata": {
        "colab": {
          "base_uri": "https://localhost:8080/"
        },
        "id": "tMNvq-Ji0XGH",
        "outputId": "26e949d0-bcf4-43ff-e307-420795f1f40a"
      },
      "outputs": [
        {
          "output_type": "stream",
          "name": "stdout",
          "text": [
            "Model: \"sequential\"\n",
            "_________________________________________________________________\n",
            " Layer (type)                Output Shape              Param #   \n",
            "=================================================================\n",
            " embedding (Embedding)       (None, 8, 10)             5000      \n",
            "                                                                 \n",
            "=================================================================\n",
            "Total params: 5000 (19.53 KB)\n",
            "Trainable params: 5000 (19.53 KB)\n",
            "Non-trainable params: 0 (0.00 Byte)\n",
            "_________________________________________________________________\n"
          ]
        }
      ],
      "source": [
        "model.summary()"
      ]
    },
    {
      "cell_type": "code",
      "source": [
        "##'the glass of milk',\n",
        "embedded_docs[0]"
      ],
      "metadata": {
        "colab": {
          "base_uri": "https://localhost:8080/"
        },
        "id": "FC4Ess_FEcb3",
        "outputId": "de3ee1f5-c531-445e-d3e9-c568b0e9b4f7"
      },
      "execution_count": 13,
      "outputs": [
        {
          "output_type": "execute_result",
          "data": {
            "text/plain": [
              "array([  0,   0,   0,   0,  80,  60, 389, 308], dtype=int32)"
            ]
          },
          "metadata": {},
          "execution_count": 13
        }
      ]
    },
    {
      "cell_type": "code",
      "source": [
        "model.predict(embedded_docs[0])"
      ],
      "metadata": {
        "colab": {
          "base_uri": "https://localhost:8080/"
        },
        "id": "bRqEvMBYEZUS",
        "outputId": "3701e4f5-4f1d-4e9a-ce50-b2fd41b42cc8"
      },
      "execution_count": 14,
      "outputs": [
        {
          "output_type": "stream",
          "name": "stdout",
          "text": [
            "1/1 [==============================] - 0s 117ms/step\n"
          ]
        },
        {
          "output_type": "execute_result",
          "data": {
            "text/plain": [
              "array([[ 0.00575059,  0.01672821,  0.026559  ,  0.02679614, -0.02905239,\n",
              "         0.00052174, -0.01100288,  0.02951357,  0.00713109, -0.03509364],\n",
              "       [ 0.00575059,  0.01672821,  0.026559  ,  0.02679614, -0.02905239,\n",
              "         0.00052174, -0.01100288,  0.02951357,  0.00713109, -0.03509364],\n",
              "       [ 0.00575059,  0.01672821,  0.026559  ,  0.02679614, -0.02905239,\n",
              "         0.00052174, -0.01100288,  0.02951357,  0.00713109, -0.03509364],\n",
              "       [ 0.00575059,  0.01672821,  0.026559  ,  0.02679614, -0.02905239,\n",
              "         0.00052174, -0.01100288,  0.02951357,  0.00713109, -0.03509364],\n",
              "       [-0.02051178,  0.03203272,  0.01078732,  0.04819629, -0.01546429,\n",
              "        -0.03661992,  0.00399948,  0.01729728, -0.029488  ,  0.00982083],\n",
              "       [ 0.00034715,  0.00075637,  0.02893672,  0.0314237 , -0.01478295,\n",
              "        -0.00953148,  0.00310806, -0.0383883 , -0.04538589, -0.02703258],\n",
              "       [ 0.03669194, -0.00477638,  0.0292452 ,  0.0222153 , -0.01381798,\n",
              "         0.01703998, -0.01515637,  0.00927008,  0.01831538,  0.04381411],\n",
              "       [ 0.0330447 ,  0.00813336, -0.04021608,  0.04716751,  0.04142083,\n",
              "        -0.01001394,  0.02508653,  0.0373697 ,  0.0071971 ,  0.02666565]],\n",
              "      dtype=float32)"
            ]
          },
          "metadata": {},
          "execution_count": 14
        }
      ]
    },
    {
      "cell_type": "code",
      "execution_count": 15,
      "metadata": {
        "colab": {
          "base_uri": "https://localhost:8080/"
        },
        "id": "kzKP69gx0XGH",
        "outputId": "f89bddc9-0a9c-48f8-8805-ebfcad427b5e"
      },
      "outputs": [
        {
          "output_type": "stream",
          "name": "stdout",
          "text": [
            "1/1 [==============================] - 0s 36ms/step\n",
            "[[[ 5.75058535e-03  1.67282112e-02  2.65589990e-02  2.67961361e-02\n",
            "   -2.90523898e-02  5.21741807e-04 -1.10028759e-02  2.95135714e-02\n",
            "    7.13108853e-03 -3.50936428e-02]\n",
            "  [ 5.75058535e-03  1.67282112e-02  2.65589990e-02  2.67961361e-02\n",
            "   -2.90523898e-02  5.21741807e-04 -1.10028759e-02  2.95135714e-02\n",
            "    7.13108853e-03 -3.50936428e-02]\n",
            "  [ 5.75058535e-03  1.67282112e-02  2.65589990e-02  2.67961361e-02\n",
            "   -2.90523898e-02  5.21741807e-04 -1.10028759e-02  2.95135714e-02\n",
            "    7.13108853e-03 -3.50936428e-02]\n",
            "  [ 5.75058535e-03  1.67282112e-02  2.65589990e-02  2.67961361e-02\n",
            "   -2.90523898e-02  5.21741807e-04 -1.10028759e-02  2.95135714e-02\n",
            "    7.13108853e-03 -3.50936428e-02]\n",
            "  [-2.05117818e-02  3.20327170e-02  1.07873194e-02  4.81962897e-02\n",
            "   -1.54642947e-02 -3.66199240e-02  3.99948284e-03  1.72972791e-02\n",
            "   -2.94880029e-02  9.82083008e-03]\n",
            "  [ 3.47148627e-04  7.56371766e-04  2.89367177e-02  3.14236991e-02\n",
            "   -1.47829540e-02 -9.53147560e-03  3.10806185e-03 -3.83883007e-02\n",
            "   -4.53858860e-02 -2.70325784e-02]\n",
            "  [ 3.66919376e-02 -4.77638096e-03  2.92452015e-02  2.22152956e-02\n",
            "   -1.38179772e-02  1.70399807e-02 -1.51563659e-02  9.27008316e-03\n",
            "    1.83153786e-02  4.38141115e-02]\n",
            "  [ 3.30446996e-02  8.13336298e-03 -4.02160771e-02  4.71675061e-02\n",
            "    4.14208286e-02 -1.00139380e-02  2.50865333e-02  3.73697020e-02\n",
            "    7.19710439e-03  2.66656540e-02]]\n",
            "\n",
            " [[ 5.75058535e-03  1.67282112e-02  2.65589990e-02  2.67961361e-02\n",
            "   -2.90523898e-02  5.21741807e-04 -1.10028759e-02  2.95135714e-02\n",
            "    7.13108853e-03 -3.50936428e-02]\n",
            "  [ 5.75058535e-03  1.67282112e-02  2.65589990e-02  2.67961361e-02\n",
            "   -2.90523898e-02  5.21741807e-04 -1.10028759e-02  2.95135714e-02\n",
            "    7.13108853e-03 -3.50936428e-02]\n",
            "  [ 5.75058535e-03  1.67282112e-02  2.65589990e-02  2.67961361e-02\n",
            "   -2.90523898e-02  5.21741807e-04 -1.10028759e-02  2.95135714e-02\n",
            "    7.13108853e-03 -3.50936428e-02]\n",
            "  [ 5.75058535e-03  1.67282112e-02  2.65589990e-02  2.67961361e-02\n",
            "   -2.90523898e-02  5.21741807e-04 -1.10028759e-02  2.95135714e-02\n",
            "    7.13108853e-03 -3.50936428e-02]\n",
            "  [-2.05117818e-02  3.20327170e-02  1.07873194e-02  4.81962897e-02\n",
            "   -1.54642947e-02 -3.66199240e-02  3.99948284e-03  1.72972791e-02\n",
            "   -2.94880029e-02  9.82083008e-03]\n",
            "  [ 3.47148627e-04  7.56371766e-04  2.89367177e-02  3.14236991e-02\n",
            "   -1.47829540e-02 -9.53147560e-03  3.10806185e-03 -3.83883007e-02\n",
            "   -4.53858860e-02 -2.70325784e-02]\n",
            "  [ 3.66919376e-02 -4.77638096e-03  2.92452015e-02  2.22152956e-02\n",
            "   -1.38179772e-02  1.70399807e-02 -1.51563659e-02  9.27008316e-03\n",
            "    1.83153786e-02  4.38141115e-02]\n",
            "  [ 6.90484047e-03  4.77670170e-02 -1.88250300e-02  2.44407095e-02\n",
            "    3.86189334e-02 -1.21191964e-02  2.30785459e-03 -2.66970638e-02\n",
            "   -3.14810127e-03  4.56591137e-02]]\n",
            "\n",
            " [[ 5.75058535e-03  1.67282112e-02  2.65589990e-02  2.67961361e-02\n",
            "   -2.90523898e-02  5.21741807e-04 -1.10028759e-02  2.95135714e-02\n",
            "    7.13108853e-03 -3.50936428e-02]\n",
            "  [ 5.75058535e-03  1.67282112e-02  2.65589990e-02  2.67961361e-02\n",
            "   -2.90523898e-02  5.21741807e-04 -1.10028759e-02  2.95135714e-02\n",
            "    7.13108853e-03 -3.50936428e-02]\n",
            "  [ 5.75058535e-03  1.67282112e-02  2.65589990e-02  2.67961361e-02\n",
            "   -2.90523898e-02  5.21741807e-04 -1.10028759e-02  2.95135714e-02\n",
            "    7.13108853e-03 -3.50936428e-02]\n",
            "  [ 5.75058535e-03  1.67282112e-02  2.65589990e-02  2.67961361e-02\n",
            "   -2.90523898e-02  5.21741807e-04 -1.10028759e-02  2.95135714e-02\n",
            "    7.13108853e-03 -3.50936428e-02]\n",
            "  [-2.05117818e-02  3.20327170e-02  1.07873194e-02  4.81962897e-02\n",
            "   -1.54642947e-02 -3.66199240e-02  3.99948284e-03  1.72972791e-02\n",
            "   -2.94880029e-02  9.82083008e-03]\n",
            "  [ 7.32731074e-04  4.57882881e-04 -3.94274220e-02 -2.71763690e-02\n",
            "   -2.77056582e-02 -2.18386408e-02  2.38599665e-02  3.23599093e-02\n",
            "   -4.44896109e-02  3.01543735e-02]\n",
            "  [ 3.66919376e-02 -4.77638096e-03  2.92452015e-02  2.22152956e-02\n",
            "   -1.38179772e-02  1.70399807e-02 -1.51563659e-02  9.27008316e-03\n",
            "    1.83153786e-02  4.38141115e-02]\n",
            "  [-3.12869772e-02 -1.82602294e-02 -1.47927627e-02  2.56834179e-03\n",
            "   -3.95385027e-02  3.04529108e-02  2.80468538e-03  3.01297754e-03\n",
            "   -7.18459487e-05  3.64174508e-02]]\n",
            "\n",
            " [[ 5.75058535e-03  1.67282112e-02  2.65589990e-02  2.67961361e-02\n",
            "   -2.90523898e-02  5.21741807e-04 -1.10028759e-02  2.95135714e-02\n",
            "    7.13108853e-03 -3.50936428e-02]\n",
            "  [ 5.75058535e-03  1.67282112e-02  2.65589990e-02  2.67961361e-02\n",
            "   -2.90523898e-02  5.21741807e-04 -1.10028759e-02  2.95135714e-02\n",
            "    7.13108853e-03 -3.50936428e-02]\n",
            "  [ 5.75058535e-03  1.67282112e-02  2.65589990e-02  2.67961361e-02\n",
            "   -2.90523898e-02  5.21741807e-04 -1.10028759e-02  2.95135714e-02\n",
            "    7.13108853e-03 -3.50936428e-02]\n",
            "  [-3.77486572e-02  4.34685461e-02  2.84257866e-02  1.59406923e-02\n",
            "   -3.38031426e-02  3.86081822e-02 -2.92197112e-02 -9.11799818e-03\n",
            "   -3.60500105e-02 -9.92733240e-03]\n",
            "  [-4.36532013e-02  3.05351056e-02 -1.31374225e-02  2.78662182e-02\n",
            "   -4.44914959e-02 -1.70635805e-02  2.93820389e-02 -2.04081535e-02\n",
            "   -2.94456966e-02  4.53890488e-03]\n",
            "  [ 2.06719749e-02 -1.55369639e-02 -1.81838162e-02  3.72553989e-03\n",
            "    1.54044367e-02 -1.76668763e-02 -2.97295209e-02  2.75861733e-02\n",
            "   -1.00137107e-02  2.81255729e-02]\n",
            "  [-3.53531241e-02  4.38336991e-02  2.31827162e-02 -1.72748677e-02\n",
            "   -5.53702191e-03  2.94148363e-02  4.74502705e-02 -3.42309959e-02\n",
            "   -4.93778102e-02  1.59740187e-02]\n",
            "  [-5.51772118e-03  2.27705874e-02  9.96159390e-03  4.34628986e-02\n",
            "    7.95556232e-03  1.54567026e-02  1.93167478e-04 -4.27033752e-03\n",
            "    3.03958766e-02 -4.16662581e-02]]\n",
            "\n",
            " [[ 5.75058535e-03  1.67282112e-02  2.65589990e-02  2.67961361e-02\n",
            "   -2.90523898e-02  5.21741807e-04 -1.10028759e-02  2.95135714e-02\n",
            "    7.13108853e-03 -3.50936428e-02]\n",
            "  [ 5.75058535e-03  1.67282112e-02  2.65589990e-02  2.67961361e-02\n",
            "   -2.90523898e-02  5.21741807e-04 -1.10028759e-02  2.95135714e-02\n",
            "    7.13108853e-03 -3.50936428e-02]\n",
            "  [ 5.75058535e-03  1.67282112e-02  2.65589990e-02  2.67961361e-02\n",
            "   -2.90523898e-02  5.21741807e-04 -1.10028759e-02  2.95135714e-02\n",
            "    7.13108853e-03 -3.50936428e-02]\n",
            "  [-3.77486572e-02  4.34685461e-02  2.84257866e-02  1.59406923e-02\n",
            "   -3.38031426e-02  3.86081822e-02 -2.92197112e-02 -9.11799818e-03\n",
            "   -3.60500105e-02 -9.92733240e-03]\n",
            "  [-4.36532013e-02  3.05351056e-02 -1.31374225e-02  2.78662182e-02\n",
            "   -4.44914959e-02 -1.70635805e-02  2.93820389e-02 -2.04081535e-02\n",
            "   -2.94456966e-02  4.53890488e-03]\n",
            "  [ 2.06719749e-02 -1.55369639e-02 -1.81838162e-02  3.72553989e-03\n",
            "    1.54044367e-02 -1.76668763e-02 -2.97295209e-02  2.75861733e-02\n",
            "   -1.00137107e-02  2.81255729e-02]\n",
            "  [-3.53531241e-02  4.38336991e-02  2.31827162e-02 -1.72748677e-02\n",
            "   -5.53702191e-03  2.94148363e-02  4.74502705e-02 -3.42309959e-02\n",
            "   -4.93778102e-02  1.59740187e-02]\n",
            "  [ 8.10842589e-03 -1.05298273e-02  8.96849483e-03 -2.64992472e-02\n",
            "    2.55394615e-02  1.02294460e-02  4.82609607e-02 -3.22964676e-02\n",
            "   -3.26265022e-03 -3.67983691e-02]]\n",
            "\n",
            " [[ 5.75058535e-03  1.67282112e-02  2.65589990e-02  2.67961361e-02\n",
            "   -2.90523898e-02  5.21741807e-04 -1.10028759e-02  2.95135714e-02\n",
            "    7.13108853e-03 -3.50936428e-02]\n",
            "  [ 5.75058535e-03  1.67282112e-02  2.65589990e-02  2.67961361e-02\n",
            "   -2.90523898e-02  5.21741807e-04 -1.10028759e-02  2.95135714e-02\n",
            "    7.13108853e-03 -3.50936428e-02]\n",
            "  [ 5.75058535e-03  1.67282112e-02  2.65589990e-02  2.67961361e-02\n",
            "   -2.90523898e-02  5.21741807e-04 -1.10028759e-02  2.95135714e-02\n",
            "    7.13108853e-03 -3.50936428e-02]\n",
            "  [ 3.24793905e-03  1.85695179e-02  3.54896225e-02  1.31784752e-03\n",
            "   -2.59007458e-02  2.09949128e-02 -4.44687717e-02 -2.41365675e-02\n",
            "   -4.06668074e-02 -1.62709467e-02]\n",
            "  [-2.05117818e-02  3.20327170e-02  1.07873194e-02  4.81962897e-02\n",
            "   -1.54642947e-02 -3.66199240e-02  3.99948284e-03  1.72972791e-02\n",
            "   -2.94880029e-02  9.82083008e-03]\n",
            "  [-4.62574475e-02 -2.79263016e-02 -2.02620625e-02  5.85197285e-03\n",
            "    2.34515406e-02 -1.24989375e-02  3.62319686e-02  3.05984132e-02\n",
            "   -4.07438278e-02  3.92208807e-02]\n",
            "  [ 3.66919376e-02 -4.77638096e-03  2.92452015e-02  2.22152956e-02\n",
            "   -1.38179772e-02  1.70399807e-02 -1.51563659e-02  9.27008316e-03\n",
            "    1.83153786e-02  4.38141115e-02]\n",
            "  [-1.77971832e-02  4.48443629e-02  2.48496048e-02  2.76848190e-02\n",
            "   -4.20314670e-02 -1.17130876e-02  3.71007435e-02  1.13652833e-02\n",
            "   -3.49937901e-02 -3.04243695e-02]]\n",
            "\n",
            " [[ 5.75058535e-03  1.67282112e-02  2.65589990e-02  2.67961361e-02\n",
            "   -2.90523898e-02  5.21741807e-04 -1.10028759e-02  2.95135714e-02\n",
            "    7.13108853e-03 -3.50936428e-02]\n",
            "  [ 5.75058535e-03  1.67282112e-02  2.65589990e-02  2.67961361e-02\n",
            "   -2.90523898e-02  5.21741807e-04 -1.10028759e-02  2.95135714e-02\n",
            "    7.13108853e-03 -3.50936428e-02]\n",
            "  [ 5.75058535e-03  1.67282112e-02  2.65589990e-02  2.67961361e-02\n",
            "   -2.90523898e-02  5.21741807e-04 -1.10028759e-02  2.95135714e-02\n",
            "    7.13108853e-03 -3.50936428e-02]\n",
            "  [ 5.75058535e-03  1.67282112e-02  2.65589990e-02  2.67961361e-02\n",
            "   -2.90523898e-02  5.21741807e-04 -1.10028759e-02  2.95135714e-02\n",
            "    7.13108853e-03 -3.50936428e-02]\n",
            "  [ 4.33146618e-02  3.81416790e-02  3.00540775e-03  3.54194380e-02\n",
            "    4.02257182e-02  8.61661509e-03  2.23790891e-02 -9.55641270e-04\n",
            "   -1.06576085e-02 -7.31188059e-03]\n",
            "  [ 2.32595690e-02  4.04407494e-02  2.13347338e-02  2.85141133e-02\n",
            "    1.06394663e-02  3.62310559e-03  4.87656854e-02  3.77850868e-02\n",
            "   -1.16382465e-02 -1.46804936e-02]\n",
            "  [ 4.70349677e-02 -2.92924773e-02  2.96426304e-02  3.77265923e-02\n",
            "   -4.12500501e-02  1.60710849e-02  1.50631741e-03 -6.52971119e-03\n",
            "    3.79262082e-02  4.31175493e-02]\n",
            "  [-3.53531241e-02  4.38336991e-02  2.31827162e-02 -1.72748677e-02\n",
            "   -5.53702191e-03  2.94148363e-02  4.74502705e-02 -3.42309959e-02\n",
            "   -4.93778102e-02  1.59740187e-02]]]\n"
          ]
        }
      ],
      "source": [
        "print(model.predict(embedded_docs))"
      ]
    },
    {
      "cell_type": "code",
      "execution_count": null,
      "metadata": {
        "id": "JuUxfk7d0XGH",
        "outputId": "c28e6fc6-3db2-4975-9dd3-950b7da8c67e"
      },
      "outputs": [
        {
          "data": {
            "text/plain": [
              "array([   0,    0,    0,    0, 6654,  998, 8966, 1609])"
            ]
          },
          "execution_count": 37,
          "metadata": {},
          "output_type": "execute_result"
        }
      ],
      "source": [
        "embedded_docs[0]"
      ]
    },
    {
      "cell_type": "code",
      "execution_count": null,
      "metadata": {
        "id": "6JJ_zD0u0XGH",
        "outputId": "8b2b65cb-457b-46f4-dd60-c5fe8ab0566f"
      },
      "outputs": [
        {
          "name": "stdout",
          "output_type": "stream",
          "text": [
            "[[-0.00425554 -0.00159295 -0.04714153  0.04425247 -0.00973954 -0.04325813\n",
            "   0.04007108 -0.0143286  -0.03659749 -0.02379028]\n",
            " [-0.00425554 -0.00159295 -0.04714153  0.04425247 -0.00973954 -0.04325813\n",
            "   0.04007108 -0.0143286  -0.03659749 -0.02379028]\n",
            " [-0.00425554 -0.00159295 -0.04714153  0.04425247 -0.00973954 -0.04325813\n",
            "   0.04007108 -0.0143286  -0.03659749 -0.02379028]\n",
            " [-0.00425554 -0.00159295 -0.04714153  0.04425247 -0.00973954 -0.04325813\n",
            "   0.04007108 -0.0143286  -0.03659749 -0.02379028]\n",
            " [-0.03786323 -0.02628061  0.02974111 -0.03307171  0.0271405   0.00945134\n",
            "   0.02378127  0.04176904  0.00514941  0.0152082 ]\n",
            " [ 0.04834186  0.04388311 -0.02802253 -0.01475487 -0.01212303  0.03762435\n",
            "  -0.01166249 -0.02141088  0.04654533  0.01537322]\n",
            " [ 0.03276015 -0.00637691  0.03907344 -0.01912468  0.02177186 -0.04630325\n",
            "   0.00800942 -0.03115667 -0.00486455 -0.04843524]\n",
            " [-0.04173617  0.03438064  0.02880521 -0.01896455  0.0323303  -0.00109453\n",
            "  -0.01675171 -0.00941917 -0.03309294 -0.04779492]]\n"
          ]
        }
      ],
      "source": [
        "print(model.predict(embedded_docs)[0])"
      ]
    },
    {
      "cell_type": "code",
      "execution_count": 16,
      "metadata": {
        "id": "8OMu3iAz0XGH"
      },
      "outputs": [],
      "source": []
    },
    {
      "cell_type": "code",
      "source": [],
      "metadata": {
        "id": "C_Wd7y4O6Q4N"
      },
      "execution_count": null,
      "outputs": []
    }
  ],
  "metadata": {
    "kernelspec": {
      "display_name": "Python 3",
      "language": "python",
      "name": "python3"
    },
    "language_info": {
      "codemirror_mode": {
        "name": "ipython",
        "version": 3
      },
      "file_extension": ".py",
      "mimetype": "text/x-python",
      "name": "python",
      "nbconvert_exporter": "python",
      "pygments_lexer": "ipython3",
      "version": "3.7.4"
    },
    "colab": {
      "provenance": []
    },
    "accelerator": "GPU",
    "gpuClass": "standard"
  },
  "nbformat": 4,
  "nbformat_minor": 0
}