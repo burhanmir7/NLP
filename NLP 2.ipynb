{
 "cells": [
  {
   "cell_type": "code",
   "execution_count": 1,
   "id": "12de19a2",
   "metadata": {},
   "outputs": [
    {
     "name": "stdout",
     "output_type": "stream",
     "text": [
      "Requirement already satisfied: nltk in /Users/buri/anaconda3/lib/python3.11/site-packages (3.8.1)\r\n",
      "Requirement already satisfied: click in /Users/buri/anaconda3/lib/python3.11/site-packages (from nltk) (8.0.4)\r\n",
      "Requirement already satisfied: joblib in /Users/buri/anaconda3/lib/python3.11/site-packages (from nltk) (1.2.0)\r\n",
      "Requirement already satisfied: regex>=2021.8.3 in /Users/buri/anaconda3/lib/python3.11/site-packages (from nltk) (2022.7.9)\r\n",
      "Requirement already satisfied: tqdm in /Users/buri/anaconda3/lib/python3.11/site-packages (from nltk) (4.65.0)\r\n"
     ]
    }
   ],
   "source": [
    "!pip install nltk"
   ]
  },
  {
   "cell_type": "code",
   "execution_count": 2,
   "id": "600251be",
   "metadata": {},
   "outputs": [
    {
     "name": "stderr",
     "output_type": "stream",
     "text": [
      "[nltk_data] Downloading package stopwords to /Users/buri/nltk_data...\n",
      "[nltk_data]   Package stopwords is already up-to-date!\n"
     ]
    }
   ],
   "source": [
    "import nltk\n",
    "from nltk.stem import PorterStemmer\n",
    "import nltk\n",
    "nltk.download('stopwords')\n",
    "from nltk.corpus import stopwords\n",
    "\n"
   ]
  },
  {
   "cell_type": "code",
   "execution_count": 3,
   "id": "e68a9d44",
   "metadata": {},
   "outputs": [],
   "source": [
    "paragraph=\"\"\"\n",
    "Cristiano Ronaldo dos Santos Aveiro GOIH ComM (Portuguese pronunciation: [kɾiʃˈtjɐnu ʁɔˈnaldu]; born 5 February 1985) is a Portuguese professional footballer who plays as a forward for and captains both Saudi Pro League club Al Nassr and the Portugal national team. Widely regarded as one of the greatest players of all time, Ronaldo has won five Ballon d'Or awards,[note 3] a record three UEFA Men's Player of the Year Awards, and four European Golden Shoes, the most by a European player. He has won 33 trophies in his career, including seven league titles, five UEFA Champions Leagues, the UEFA European Championship and the UEFA Nations League. Ronaldo holds the records for most appearances (183), goals (140) and assists (42) in the Champions League, goals in the European Championship (14), international goals (128) and international appearances (206). He is one of the few players to have made over 1,200 professional career appearances, the most by an outfield player, and has scored over 880 official senior career goals for club and country, making him the top goalscorer of all time.\n",
    "\"\"\""
   ]
  },
  {
   "cell_type": "code",
   "execution_count": 4,
   "id": "25ab3943",
   "metadata": {},
   "outputs": [
    {
     "data": {
      "text/plain": [
       "\"\\nCristiano Ronaldo dos Santos Aveiro GOIH ComM (Portuguese pronunciation: [kɾiʃˈtjɐnu ʁɔˈnaldu]; born 5 February 1985) is a Portuguese professional footballer who plays as a forward for and captains both Saudi Pro League club Al Nassr and the Portugal national team. Widely regarded as one of the greatest players of all time, Ronaldo has won five Ballon d'Or awards,[note 3] a record three UEFA Men's Player of the Year Awards, and four European Golden Shoes, the most by a European player. He has won 33 trophies in his career, including seven league titles, five UEFA Champions Leagues, the UEFA European Championship and the UEFA Nations League. Ronaldo holds the records for most appearances (183), goals (140) and assists (42) in the Champions League, goals in the European Championship (14), international goals (128) and international appearances (206). He is one of the few players to have made over 1,200 professional career appearances, the most by an outfield player, and has scored over 880 official senior career goals for club and country, making him the top goalscorer of all time.\\n\""
      ]
     },
     "execution_count": 4,
     "metadata": {},
     "output_type": "execute_result"
    }
   ],
   "source": [
    "paragraph\n"
   ]
  },
  {
   "cell_type": "markdown",
   "id": "397ba8cd",
   "metadata": {},
   "source": [
    "## Tokenization (converts Paragraph -> Sentences -> Words )"
   ]
  },
  {
   "cell_type": "code",
   "execution_count": 5,
   "id": "678b4f6b",
   "metadata": {},
   "outputs": [
    {
     "name": "stderr",
     "output_type": "stream",
     "text": [
      "[nltk_data] Downloading package punkt to /Users/buri/nltk_data...\n",
      "[nltk_data]   Package punkt is already up-to-date!\n"
     ]
    }
   ],
   "source": [
    "nltk.download('punkt')\n",
    "sentences = nltk.sent_tokenize(paragraph)"
   ]
  },
  {
   "cell_type": "code",
   "execution_count": 6,
   "id": "e636c213",
   "metadata": {},
   "outputs": [
    {
     "data": {
      "text/plain": [
       "['\\nCristiano Ronaldo dos Santos Aveiro GOIH ComM (Portuguese pronunciation: [kɾiʃˈtjɐnu ʁɔˈnaldu]; born 5 February 1985) is a Portuguese professional footballer who plays as a forward for and captains both Saudi Pro League club Al Nassr and the Portugal national team.',\n",
       " \"Widely regarded as one of the greatest players of all time, Ronaldo has won five Ballon d'Or awards,[note 3] a record three UEFA Men's Player of the Year Awards, and four European Golden Shoes, the most by a European player.\",\n",
       " 'He has won 33 trophies in his career, including seven league titles, five UEFA Champions Leagues, the UEFA European Championship and the UEFA Nations League.',\n",
       " 'Ronaldo holds the records for most appearances (183), goals (140) and assists (42) in the Champions League, goals in the European Championship (14), international goals (128) and international appearances (206).',\n",
       " 'He is one of the few players to have made over 1,200 professional career appearances, the most by an outfield player, and has scored over 880 official senior career goals for club and country, making him the top goalscorer of all time.']"
      ]
     },
     "execution_count": 6,
     "metadata": {},
     "output_type": "execute_result"
    }
   ],
   "source": [
    "sentences"
   ]
  },
  {
   "cell_type": "code",
   "execution_count": 7,
   "id": "48995be2",
   "metadata": {},
   "outputs": [
    {
     "data": {
      "text/plain": [
       "'histori'"
      ]
     },
     "execution_count": 7,
     "metadata": {},
     "output_type": "execute_result"
    }
   ],
   "source": [
    "stemmer = PorterStemmer()\n",
    "stemmer.stem(\"history\")"
   ]
  },
  {
   "cell_type": "code",
   "execution_count": 8,
   "id": "33c02147",
   "metadata": {},
   "outputs": [
    {
     "name": "stderr",
     "output_type": "stream",
     "text": [
      "[nltk_data] Downloading package wordnet to /Users/buri/nltk_data...\n",
      "[nltk_data]   Package wordnet is already up-to-date!\n"
     ]
    },
    {
     "data": {
      "text/plain": [
       "True"
      ]
     },
     "execution_count": 8,
     "metadata": {},
     "output_type": "execute_result"
    }
   ],
   "source": [
    "nltk.download('wordnet')"
   ]
  },
  {
   "cell_type": "code",
   "execution_count": 9,
   "id": "7c9a6f75",
   "metadata": {},
   "outputs": [],
   "source": [
    "from nltk.stem import WordNetLemmatizer"
   ]
  },
  {
   "cell_type": "code",
   "execution_count": 10,
   "id": "75ffc82b",
   "metadata": {},
   "outputs": [],
   "source": [
    "lemmatizer = WordNetLemmatizer()"
   ]
  },
  {
   "cell_type": "code",
   "execution_count": 11,
   "id": "c627ff87",
   "metadata": {},
   "outputs": [
    {
     "data": {
      "text/plain": [
       "'history'"
      ]
     },
     "execution_count": 11,
     "metadata": {},
     "output_type": "execute_result"
    }
   ],
   "source": [
    "lemmatizer.lemmatize('history')"
   ]
  },
  {
   "cell_type": "code",
   "execution_count": 12,
   "id": "92e2db44",
   "metadata": {},
   "outputs": [
    {
     "data": {
      "text/plain": [
       "5"
      ]
     },
     "execution_count": 12,
     "metadata": {},
     "output_type": "execute_result"
    }
   ],
   "source": [
    "len(sentences)"
   ]
  },
  {
   "cell_type": "code",
   "execution_count": 13,
   "id": "bea7dda7",
   "metadata": {},
   "outputs": [],
   "source": [
    "import re"
   ]
  },
  {
   "cell_type": "code",
   "execution_count": 14,
   "id": "c01c50a2",
   "metadata": {},
   "outputs": [],
   "source": [
    "corpus= []\n",
    "for i in range(len(sentences)):\n",
    "    review = re.sub('[^a-zA-Z]',' ',sentences[i])\n",
    "    review = review.lower()\n",
    "    corpus.append(review)"
   ]
  },
  {
   "cell_type": "code",
   "execution_count": 15,
   "id": "85ff0305",
   "metadata": {},
   "outputs": [
    {
     "data": {
      "text/plain": [
       "[' cristiano ronaldo dos santos aveiro goih comm  portuguese pronunciation   k i  tj nu    naldu   born   february       is a portuguese professional footballer who plays as a forward for and captains both saudi pro league club al nassr and the portugal national team ',\n",
       " 'widely regarded as one of the greatest players of all time  ronaldo has won five ballon d or awards  note    a record three uefa men s player of the year awards  and four european golden shoes  the most by a european player ',\n",
       " 'he has won    trophies in his career  including seven league titles  five uefa champions leagues  the uefa european championship and the uefa nations league ',\n",
       " 'ronaldo holds the records for most appearances        goals       and assists      in the champions league  goals in the european championship       international goals       and international appearances       ',\n",
       " 'he is one of the few players to have made over       professional career appearances  the most by an outfield player  and has scored over     official senior career goals for club and country  making him the top goalscorer of all time ']"
      ]
     },
     "execution_count": 15,
     "metadata": {},
     "output_type": "execute_result"
    }
   ],
   "source": [
    "corpus"
   ]
  },
  {
   "cell_type": "code",
   "execution_count": 16,
   "id": "e026f050",
   "metadata": {},
   "outputs": [
    {
     "name": "stdout",
     "output_type": "stream",
     "text": [
      "cristiano\n",
      "ronaldo\n",
      "do\n",
      "santo\n",
      "aveiro\n",
      "goih\n",
      "comm\n",
      "portugues\n",
      "pronunci\n",
      "k\n",
      "tj\n",
      "nu\n",
      "naldu\n",
      "born\n",
      "februari\n",
      "portugues\n",
      "profession\n",
      "footbal\n",
      "play\n",
      "forward\n",
      "captain\n",
      "saudi\n",
      "pro\n",
      "leagu\n",
      "club\n",
      "al\n",
      "nassr\n",
      "portug\n",
      "nation\n",
      "team\n",
      "wide\n",
      "regard\n",
      "one\n",
      "greatest\n",
      "player\n",
      "time\n",
      "ronaldo\n",
      "five\n",
      "ballon\n",
      "award\n",
      "note\n",
      "record\n",
      "three\n",
      "uefa\n",
      "men\n",
      "player\n",
      "year\n",
      "award\n",
      "four\n",
      "european\n",
      "golden\n",
      "shoe\n",
      "european\n",
      "player\n",
      "trophi\n",
      "career\n",
      "includ\n",
      "seven\n",
      "leagu\n",
      "titl\n",
      "five\n",
      "uefa\n",
      "champion\n",
      "leagu\n",
      "uefa\n",
      "european\n",
      "championship\n",
      "uefa\n",
      "nation\n",
      "leagu\n",
      "ronaldo\n",
      "hold\n",
      "record\n",
      "appear\n",
      "goal\n",
      "assist\n",
      "champion\n",
      "leagu\n",
      "goal\n",
      "european\n",
      "championship\n",
      "intern\n",
      "goal\n",
      "intern\n",
      "appear\n",
      "one\n",
      "player\n",
      "made\n",
      "profession\n",
      "career\n",
      "appear\n",
      "outfield\n",
      "player\n",
      "score\n",
      "offici\n",
      "senior\n",
      "career\n",
      "goal\n",
      "club\n",
      "countri\n",
      "make\n",
      "top\n",
      "goalscor\n",
      "time\n"
     ]
    }
   ],
   "source": [
    "# stemming\n",
    "for i in corpus:\n",
    "    words = nltk.word_tokenize(i)\n",
    "    for word in words:\n",
    "        if word not in set(stopwords.words('english')):\n",
    "            print(stemmer.stem(word))"
   ]
  },
  {
   "cell_type": "code",
   "execution_count": 17,
   "id": "21c63bed",
   "metadata": {},
   "outputs": [
    {
     "name": "stdout",
     "output_type": "stream",
     "text": [
      "cristiano\n",
      "ronaldo\n",
      "do\n",
      "santos\n",
      "aveiro\n",
      "goih\n",
      "comm\n",
      "portuguese\n",
      "pronunciation\n",
      "k\n",
      "tj\n",
      "nu\n",
      "naldu\n",
      "born\n",
      "february\n",
      "portuguese\n",
      "professional\n",
      "footballer\n",
      "play\n",
      "forward\n",
      "captain\n",
      "saudi\n",
      "pro\n",
      "league\n",
      "club\n",
      "al\n",
      "nassr\n",
      "portugal\n",
      "national\n",
      "team\n",
      "widely\n",
      "regarded\n",
      "one\n",
      "greatest\n",
      "player\n",
      "time\n",
      "ronaldo\n",
      "five\n",
      "ballon\n",
      "award\n",
      "note\n",
      "record\n",
      "three\n",
      "uefa\n",
      "men\n",
      "player\n",
      "year\n",
      "award\n",
      "four\n",
      "european\n",
      "golden\n",
      "shoe\n",
      "european\n",
      "player\n",
      "trophy\n",
      "career\n",
      "including\n",
      "seven\n",
      "league\n",
      "title\n",
      "five\n",
      "uefa\n",
      "champion\n",
      "league\n",
      "uefa\n",
      "european\n",
      "championship\n",
      "uefa\n",
      "nation\n",
      "league\n",
      "ronaldo\n",
      "hold\n",
      "record\n",
      "appearance\n",
      "goal\n",
      "assist\n",
      "champion\n",
      "league\n",
      "goal\n",
      "european\n",
      "championship\n",
      "international\n",
      "goal\n",
      "international\n",
      "appearance\n",
      "one\n",
      "player\n",
      "made\n",
      "professional\n",
      "career\n",
      "appearance\n",
      "outfield\n",
      "player\n",
      "scored\n",
      "official\n",
      "senior\n",
      "career\n",
      "goal\n",
      "club\n",
      "country\n",
      "making\n",
      "top\n",
      "goalscorer\n",
      "time\n"
     ]
    }
   ],
   "source": [
    "# stemming\n",
    "for i in corpus:\n",
    "    words = nltk.word_tokenize(i)\n",
    "    for word in words:\n",
    "        if word not in set(stopwords.words('english')):\n",
    "            print(lemmatizer.lemmatize(word))"
   ]
  },
  {
   "cell_type": "code",
   "execution_count": 18,
   "id": "692fcb3a",
   "metadata": {},
   "outputs": [],
   "source": [
    "# # Apply stop words\n",
    "# import re\n",
    "# corpus= []\n",
    "# for i in range(len(sentences)):\n",
    "#     review = re.sub('[^a-zA-Z]',' ',sentences[i])\n",
    "#     review = review.lower()\n",
    "#     review = [lemmatizer.lemmatize(word) for word in review if not word in set (stopwords.words('english')) ]\n",
    "#     review = ' '.join(review)\n",
    "#     corpus.append(review)"
   ]
  },
  {
   "cell_type": "code",
   "execution_count": 24,
   "id": "d0d23679",
   "metadata": {},
   "outputs": [],
   "source": [
    "from sklearn.feature_extraction.text import CountVectorizer\n",
    "cv = CountVectorizer(ngram_range= (3,3))"
   ]
  },
  {
   "cell_type": "code",
   "execution_count": 25,
   "id": "986da106",
   "metadata": {},
   "outputs": [],
   "source": [
    "X = cv.fit_transform(corpus)"
   ]
  },
  {
   "cell_type": "code",
   "execution_count": 26,
   "id": "472a37c6",
   "metadata": {},
   "outputs": [
    {
     "data": {
      "text/plain": [
       "{'cristiano ronaldo dos': 36,\n",
       " 'ronaldo dos santos': 114,\n",
       " 'dos santos aveiro': 37,\n",
       " 'santos aveiro goih': 117,\n",
       " 'aveiro goih comm': 16,\n",
       " 'goih comm portuguese': 56,\n",
       " 'comm portuguese pronunciation': 34,\n",
       " 'portuguese pronunciation tj': 106,\n",
       " 'pronunciation tj nu': 110,\n",
       " 'tj nu naldu': 137,\n",
       " 'nu naldu born': 88,\n",
       " 'naldu born february': 85,\n",
       " 'born february is': 20,\n",
       " 'february is portuguese': 41,\n",
       " 'is portuguese professional': 74,\n",
       " 'portuguese professional footballer': 105,\n",
       " 'professional footballer who': 109,\n",
       " 'footballer who plays': 45,\n",
       " 'who plays as': 145,\n",
       " 'plays as forward': 103,\n",
       " 'as forward for': 13,\n",
       " 'forward for and': 49,\n",
       " 'for and captains': 46,\n",
       " 'and captains both': 4,\n",
       " 'captains both saudi': 24,\n",
       " 'both saudi pro': 21,\n",
       " 'saudi pro league': 118,\n",
       " 'pro league club': 107,\n",
       " 'league club al': 75,\n",
       " 'club al nassr': 32,\n",
       " 'al nassr and': 0,\n",
       " 'nassr and the': 86,\n",
       " 'and the portugal': 9,\n",
       " 'the portugal national': 128,\n",
       " 'portugal national team': 104,\n",
       " 'widely regarded as': 146,\n",
       " 'regarded as one': 113,\n",
       " 'as one of': 14,\n",
       " 'one of the': 94,\n",
       " 'of the greatest': 91,\n",
       " 'the greatest players': 126,\n",
       " 'greatest players of': 58,\n",
       " 'players of all': 101,\n",
       " 'of all time': 89,\n",
       " 'all time ronaldo': 1,\n",
       " 'time ronaldo has': 135,\n",
       " 'ronaldo has won': 115,\n",
       " 'has won five': 60,\n",
       " 'won five ballon': 147,\n",
       " 'five ballon or': 43,\n",
       " 'ballon or awards': 19,\n",
       " 'or awards note': 95,\n",
       " 'awards note record': 18,\n",
       " 'note record three': 87,\n",
       " 'record three uefa': 111,\n",
       " 'three uefa men': 134,\n",
       " 'uefa men player': 143,\n",
       " 'men player of': 81,\n",
       " 'player of the': 100,\n",
       " 'of the year': 92,\n",
       " 'the year awards': 133,\n",
       " 'year awards and': 149,\n",
       " 'awards and four': 17,\n",
       " 'and four european': 6,\n",
       " 'four european golden': 50,\n",
       " 'european golden shoes': 40,\n",
       " 'golden shoes the': 57,\n",
       " 'shoes the most': 122,\n",
       " 'the most by': 127,\n",
       " 'most by european': 84,\n",
       " 'by european player': 23,\n",
       " 'he has won': 63,\n",
       " 'has won trophies': 61,\n",
       " 'won trophies in': 148,\n",
       " 'trophies in his': 140,\n",
       " 'in his career': 68,\n",
       " 'his career including': 66,\n",
       " 'career including seven': 27,\n",
       " 'including seven league': 71,\n",
       " 'seven league titles': 121,\n",
       " 'league titles five': 77,\n",
       " 'titles five uefa': 136,\n",
       " 'five uefa champions': 44,\n",
       " 'uefa champions leagues': 141,\n",
       " 'champions leagues the': 29,\n",
       " 'leagues the uefa': 78,\n",
       " 'the uefa european': 131,\n",
       " 'uefa european championship': 142,\n",
       " 'european championship and': 38,\n",
       " 'championship and the': 30,\n",
       " 'and the uefa': 10,\n",
       " 'the uefa nations': 132,\n",
       " 'uefa nations league': 144,\n",
       " 'ronaldo holds the': 116,\n",
       " 'holds the records': 67,\n",
       " 'the records for': 129,\n",
       " 'records for most': 112,\n",
       " 'for most appearances': 48,\n",
       " 'most appearances goals': 82,\n",
       " 'appearances goals and': 11,\n",
       " 'goals and assists': 51,\n",
       " 'and assists in': 3,\n",
       " 'assists in the': 15,\n",
       " 'in the champions': 69,\n",
       " 'the champions league': 123,\n",
       " 'champions league goals': 28,\n",
       " 'league goals in': 76,\n",
       " 'goals in the': 54,\n",
       " 'in the european': 70,\n",
       " 'the european championship': 124,\n",
       " 'european championship international': 39,\n",
       " 'championship international goals': 31,\n",
       " 'international goals and': 72,\n",
       " 'goals and international': 52,\n",
       " 'and international appearances': 8,\n",
       " 'he is one': 64,\n",
       " 'is one of': 73,\n",
       " 'of the few': 90,\n",
       " 'the few players': 125,\n",
       " 'few players to': 42,\n",
       " 'players to have': 102,\n",
       " 'to have made': 138,\n",
       " 'have made over': 62,\n",
       " 'made over professional': 79,\n",
       " 'over professional career': 98,\n",
       " 'professional career appearances': 108,\n",
       " 'career appearances the': 25,\n",
       " 'appearances the most': 12,\n",
       " 'most by an': 83,\n",
       " 'by an outfield': 22,\n",
       " 'an outfield player': 2,\n",
       " 'outfield player and': 96,\n",
       " 'player and has': 99,\n",
       " 'and has scored': 7,\n",
       " 'has scored over': 59,\n",
       " 'scored over official': 119,\n",
       " 'over official senior': 97,\n",
       " 'official senior career': 93,\n",
       " 'senior career goals': 120,\n",
       " 'career goals for': 26,\n",
       " 'goals for club': 53,\n",
       " 'for club and': 47,\n",
       " 'club and country': 33,\n",
       " 'and country making': 5,\n",
       " 'country making him': 35,\n",
       " 'making him the': 80,\n",
       " 'him the top': 65,\n",
       " 'the top goalscorer': 130,\n",
       " 'top goalscorer of': 139,\n",
       " 'goalscorer of all': 55}"
      ]
     },
     "execution_count": 26,
     "metadata": {},
     "output_type": "execute_result"
    }
   ],
   "source": [
    "cv.vocabulary_"
   ]
  },
  {
   "cell_type": "code",
   "execution_count": 22,
   "id": "78ee0726",
   "metadata": {},
   "outputs": [
    {
     "data": {
      "text/plain": [
       "' cristiano ronaldo dos santos aveiro goih comm  portuguese pronunciation   k i  tj nu    naldu   born   february       is a portuguese professional footballer who plays as a forward for and captains both saudi pro league club al nassr and the portugal national team '"
      ]
     },
     "execution_count": 22,
     "metadata": {},
     "output_type": "execute_result"
    }
   ],
   "source": [
    "corpus[0]"
   ]
  },
  {
   "cell_type": "code",
   "execution_count": 23,
   "id": "60f0b2b1",
   "metadata": {},
   "outputs": [
    {
     "data": {
      "text/plain": [
       "array([[1, 0, 0, 2, 0, 1, 0, 1, 0, 0, 1, 1, 0, 1, 0, 0, 0, 1, 1, 0, 1, 1,\n",
       "        0, 1, 0, 0, 1, 1, 1, 0, 0, 0, 1, 0, 0, 0, 0, 0, 0, 0, 0, 0, 0, 0,\n",
       "        1, 1, 0, 0, 0, 0, 0, 1, 1, 1, 0, 0, 1, 0, 0, 0, 0, 0, 0, 0, 0, 1,\n",
       "        1, 2, 1, 1, 1, 0, 0, 0, 1, 1, 1, 0, 0, 0, 0, 1, 1, 0, 0, 0, 1, 0,\n",
       "        0, 0, 0, 1, 0, 0, 0]])"
      ]
     },
     "execution_count": 23,
     "metadata": {},
     "output_type": "execute_result"
    }
   ],
   "source": [
    "X[0].toarray()"
   ]
  },
  {
   "cell_type": "markdown",
   "id": "bee81dc3",
   "metadata": {},
   "source": [
    "## TF-IDF"
   ]
  },
  {
   "cell_type": "code",
   "execution_count": 32,
   "id": "3e3d9b36",
   "metadata": {},
   "outputs": [],
   "source": [
    "from sklearn.feature_extraction.text import TfidfVectorizer\n",
    "cv = TfidfVectorizer()\n",
    "X = cv.fit_transform(corpus)"
   ]
  },
  {
   "cell_type": "code",
   "execution_count": 33,
   "id": "df0f8c6d",
   "metadata": {},
   "outputs": [
    {
     "data": {
      "text/plain": [
       "array([[0.17128589, 0.        , 0.        , 0.16323729, 0.        ,\n",
       "        0.13819238, 0.        , 0.17128589, 0.        , 0.        ,\n",
       "        0.17128589, 0.17128589, 0.        , 0.17128589, 0.        ,\n",
       "        0.        , 0.        , 0.13819238, 0.17128589, 0.        ,\n",
       "        0.17128589, 0.17128589, 0.        , 0.17128589, 0.        ,\n",
       "        0.        , 0.17128589, 0.11471216, 0.17128589, 0.        ,\n",
       "        0.        , 0.        , 0.17128589, 0.        , 0.        ,\n",
       "        0.        , 0.        , 0.        , 0.        , 0.        ,\n",
       "        0.        , 0.        , 0.        , 0.        , 0.13819238,\n",
       "        0.11471216, 0.        , 0.        , 0.        , 0.        ,\n",
       "        0.        , 0.17128589, 0.17128589, 0.17128589, 0.        ,\n",
       "        0.        , 0.17128589, 0.        , 0.        , 0.        ,\n",
       "        0.        , 0.        , 0.        , 0.        , 0.        ,\n",
       "        0.17128589, 0.17128589, 0.34257178, 0.17128589, 0.13819238,\n",
       "        0.17128589, 0.        , 0.        , 0.        , 0.11471216,\n",
       "        0.17128589, 0.17128589, 0.        , 0.        , 0.        ,\n",
       "        0.        , 0.17128589, 0.08161864, 0.        , 0.        ,\n",
       "        0.        , 0.17128589, 0.        , 0.        , 0.        ,\n",
       "        0.        , 0.17128589, 0.        , 0.        , 0.        ]])"
      ]
     },
     "execution_count": 33,
     "metadata": {},
     "output_type": "execute_result"
    }
   ],
   "source": [
    "X[0].toarray()"
   ]
  },
  {
   "cell_type": "code",
   "execution_count": null,
   "id": "4037b2d9",
   "metadata": {},
   "outputs": [],
   "source": []
  }
 ],
 "metadata": {
  "kernelspec": {
   "display_name": "Python 3 (ipykernel)",
   "language": "python",
   "name": "python3"
  },
  "language_info": {
   "codemirror_mode": {
    "name": "ipython",
    "version": 3
   },
   "file_extension": ".py",
   "mimetype": "text/x-python",
   "name": "python",
   "nbconvert_exporter": "python",
   "pygments_lexer": "ipython3",
   "version": "3.11.5"
  }
 },
 "nbformat": 4,
 "nbformat_minor": 5
}
